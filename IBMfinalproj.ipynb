{
  "nbformat": 4,
  "nbformat_minor": 0,
  "metadata": {
    "colab": {
      "provenance": [],
      "gpuType": "T4"
    },
    "kernelspec": {
      "name": "python3",
      "display_name": "Python 3"
    },
    "language_info": {
      "name": "python"
    },
    "accelerator": "GPU"
  },
  "cells": [
    {
      "cell_type": "markdown",
      "source": [
        "Setup and Library Installation"
      ],
      "metadata": {
        "id": "h_b5Vm_QFWTv"
      }
    },
    {
      "cell_type": "code",
      "execution_count": 1,
      "metadata": {
        "colab": {
          "base_uri": "https://localhost:8080/"
        },
        "id": "m9HSX8TK-hhT",
        "outputId": "6980f870-ff9d-44f9-d299-29903e0f7ebb"
      },
      "outputs": [
        {
          "output_type": "stream",
          "name": "stdout",
          "text": [
            "Collecting ibm-watsonx-ai\n",
            "  Downloading ibm_watsonx_ai-1.3.26-py3-none-any.whl.metadata (6.8 kB)\n",
            "Requirement already satisfied: pandas in /usr/local/lib/python3.11/dist-packages (2.2.2)\n",
            "Collecting pandas\n",
            "  Downloading pandas-2.3.0-cp311-cp311-manylinux_2_17_x86_64.manylinux2014_x86_64.whl.metadata (91 kB)\n",
            "\u001b[2K     \u001b[90m━━━━━━━━━━━━━━━━━━━━━━━━━━━━━━━━━━━━━━━━\u001b[0m \u001b[32m91.2/91.2 kB\u001b[0m \u001b[31m4.5 MB/s\u001b[0m eta \u001b[36m0:00:00\u001b[0m\n",
            "\u001b[?25hRequirement already satisfied: requests in /usr/local/lib/python3.11/dist-packages (from ibm-watsonx-ai) (2.32.3)\n",
            "Requirement already satisfied: httpx<0.29,>=0.27 in /usr/local/lib/python3.11/dist-packages (from ibm-watsonx-ai) (0.28.1)\n",
            "Requirement already satisfied: urllib3 in /usr/local/lib/python3.11/dist-packages (from ibm-watsonx-ai) (2.4.0)\n",
            "  Downloading pandas-2.2.3-cp311-cp311-manylinux_2_17_x86_64.manylinux2014_x86_64.whl.metadata (89 kB)\n",
            "\u001b[2K     \u001b[90m━━━━━━━━━━━━━━━━━━━━━━━━━━━━━━━━━━━━━━━━\u001b[0m \u001b[32m89.9/89.9 kB\u001b[0m \u001b[31m8.2 MB/s\u001b[0m eta \u001b[36m0:00:00\u001b[0m\n",
            "\u001b[?25hRequirement already satisfied: certifi in /usr/local/lib/python3.11/dist-packages (from ibm-watsonx-ai) (2025.6.15)\n",
            "Collecting lomond (from ibm-watsonx-ai)\n",
            "  Downloading lomond-0.3.3-py2.py3-none-any.whl.metadata (4.1 kB)\n",
            "Requirement already satisfied: tabulate in /usr/local/lib/python3.11/dist-packages (from ibm-watsonx-ai) (0.9.0)\n",
            "Requirement already satisfied: packaging in /usr/local/lib/python3.11/dist-packages (from ibm-watsonx-ai) (24.2)\n",
            "Collecting ibm-cos-sdk<2.15.0,>=2.12.0 (from ibm-watsonx-ai)\n",
            "  Downloading ibm_cos_sdk-2.14.2.tar.gz (58 kB)\n",
            "\u001b[2K     \u001b[90m━━━━━━━━━━━━━━━━━━━━━━━━━━━━━━━━━━━━━━━━\u001b[0m \u001b[32m58.8/58.8 kB\u001b[0m \u001b[31m5.8 MB/s\u001b[0m eta \u001b[36m0:00:00\u001b[0m\n",
            "\u001b[?25h  Preparing metadata (setup.py) ... \u001b[?25l\u001b[?25hdone\n",
            "Requirement already satisfied: numpy>=1.23.2 in /usr/local/lib/python3.11/dist-packages (from pandas) (2.0.2)\n",
            "Requirement already satisfied: python-dateutil>=2.8.2 in /usr/local/lib/python3.11/dist-packages (from pandas) (2.9.0.post0)\n",
            "Requirement already satisfied: pytz>=2020.1 in /usr/local/lib/python3.11/dist-packages (from pandas) (2025.2)\n",
            "Requirement already satisfied: tzdata>=2022.7 in /usr/local/lib/python3.11/dist-packages (from pandas) (2025.2)\n",
            "Requirement already satisfied: anyio in /usr/local/lib/python3.11/dist-packages (from httpx<0.29,>=0.27->ibm-watsonx-ai) (4.9.0)\n",
            "Requirement already satisfied: httpcore==1.* in /usr/local/lib/python3.11/dist-packages (from httpx<0.29,>=0.27->ibm-watsonx-ai) (1.0.9)\n",
            "Requirement already satisfied: idna in /usr/local/lib/python3.11/dist-packages (from httpx<0.29,>=0.27->ibm-watsonx-ai) (3.10)\n",
            "Requirement already satisfied: h11>=0.16 in /usr/local/lib/python3.11/dist-packages (from httpcore==1.*->httpx<0.29,>=0.27->ibm-watsonx-ai) (0.16.0)\n",
            "Collecting ibm-cos-sdk-core==2.14.2 (from ibm-cos-sdk<2.15.0,>=2.12.0->ibm-watsonx-ai)\n",
            "  Downloading ibm_cos_sdk_core-2.14.2.tar.gz (1.1 MB)\n",
            "\u001b[2K     \u001b[90m━━━━━━━━━━━━━━━━━━━━━━━━━━━━━━━━━━━━━━━━\u001b[0m \u001b[32m1.1/1.1 MB\u001b[0m \u001b[31m35.8 MB/s\u001b[0m eta \u001b[36m0:00:00\u001b[0m\n",
            "\u001b[?25h  Preparing metadata (setup.py) ... \u001b[?25l\u001b[?25hdone\n",
            "Collecting ibm-cos-sdk-s3transfer==2.14.2 (from ibm-cos-sdk<2.15.0,>=2.12.0->ibm-watsonx-ai)\n",
            "  Downloading ibm_cos_sdk_s3transfer-2.14.2.tar.gz (139 kB)\n",
            "\u001b[2K     \u001b[90m━━━━━━━━━━━━━━━━━━━━━━━━━━━━━━━━━━━━━━\u001b[0m \u001b[32m139.6/139.6 kB\u001b[0m \u001b[31m12.6 MB/s\u001b[0m eta \u001b[36m0:00:00\u001b[0m\n",
            "\u001b[?25h  Preparing metadata (setup.py) ... \u001b[?25l\u001b[?25hdone\n",
            "Collecting jmespath<=1.0.1,>=0.10.0 (from ibm-cos-sdk<2.15.0,>=2.12.0->ibm-watsonx-ai)\n",
            "  Downloading jmespath-1.0.1-py3-none-any.whl.metadata (7.6 kB)\n",
            "Collecting requests (from ibm-watsonx-ai)\n",
            "  Downloading requests-2.32.4-py3-none-any.whl.metadata (4.9 kB)\n",
            "Requirement already satisfied: six>=1.5 in /usr/local/lib/python3.11/dist-packages (from python-dateutil>=2.8.2->pandas) (1.17.0)\n",
            "Requirement already satisfied: charset_normalizer<4,>=2 in /usr/local/lib/python3.11/dist-packages (from requests->ibm-watsonx-ai) (3.4.2)\n",
            "Requirement already satisfied: sniffio>=1.1 in /usr/local/lib/python3.11/dist-packages (from anyio->httpx<0.29,>=0.27->ibm-watsonx-ai) (1.3.1)\n",
            "Requirement already satisfied: typing_extensions>=4.5 in /usr/local/lib/python3.11/dist-packages (from anyio->httpx<0.29,>=0.27->ibm-watsonx-ai) (4.14.0)\n",
            "Downloading ibm_watsonx_ai-1.3.26-py3-none-any.whl (1.1 MB)\n",
            "\u001b[2K   \u001b[90m━━━━━━━━━━━━━━━━━━━━━━━━━━━━━━━━━━━━━━━━\u001b[0m \u001b[32m1.1/1.1 MB\u001b[0m \u001b[31m65.0 MB/s\u001b[0m eta \u001b[36m0:00:00\u001b[0m\n",
            "\u001b[?25hDownloading pandas-2.2.3-cp311-cp311-manylinux_2_17_x86_64.manylinux2014_x86_64.whl (13.1 MB)\n",
            "\u001b[2K   \u001b[90m━━━━━━━━━━━━━━━━━━━━━━━━━━━━━━━━━━━━━━━━\u001b[0m \u001b[32m13.1/13.1 MB\u001b[0m \u001b[31m117.7 MB/s\u001b[0m eta \u001b[36m0:00:00\u001b[0m\n",
            "\u001b[?25hDownloading requests-2.32.4-py3-none-any.whl (64 kB)\n",
            "\u001b[2K   \u001b[90m━━━━━━━━━━━━━━━━━━━━━━━━━━━━━━━━━━━━━━━━\u001b[0m \u001b[32m64.8/64.8 kB\u001b[0m \u001b[31m6.4 MB/s\u001b[0m eta \u001b[36m0:00:00\u001b[0m\n",
            "\u001b[?25hDownloading lomond-0.3.3-py2.py3-none-any.whl (35 kB)\n",
            "Downloading jmespath-1.0.1-py3-none-any.whl (20 kB)\n",
            "Building wheels for collected packages: ibm-cos-sdk, ibm-cos-sdk-core, ibm-cos-sdk-s3transfer\n",
            "  Building wheel for ibm-cos-sdk (setup.py) ... \u001b[?25l\u001b[?25hdone\n",
            "  Created wheel for ibm-cos-sdk: filename=ibm_cos_sdk-2.14.2-py3-none-any.whl size=77232 sha256=8a156c5c04586b3402e22b8727f418192dcf33a6ba3af1023fccfbb21859df8c\n",
            "  Stored in directory: /root/.cache/pip/wheels/13/5a/01/6bac5df412055795d0f8732b5ea54fbd6dddb3b9ace7d0851d\n",
            "  Building wheel for ibm-cos-sdk-core (setup.py) ... \u001b[?25l\u001b[?25hdone\n",
            "  Created wheel for ibm-cos-sdk-core: filename=ibm_cos_sdk_core-2.14.2-py3-none-any.whl size=662104 sha256=d53149e28f94de0146793e33bc0f2e20eb7f1afffd01e0173491b457508867c0\n",
            "  Stored in directory: /root/.cache/pip/wheels/84/9d/4a/8d3d30d901fa3b846b53fe25913adeb54e486361db275b0f51\n",
            "  Building wheel for ibm-cos-sdk-s3transfer (setup.py) ... \u001b[?25l\u001b[?25hdone\n",
            "  Created wheel for ibm-cos-sdk-s3transfer: filename=ibm_cos_sdk_s3transfer-2.14.2-py3-none-any.whl size=90204 sha256=bd1395e50fc45bd73574333f62b43c99bf5a50c45e53222fdf85e990160aa891\n",
            "  Stored in directory: /root/.cache/pip/wheels/32/4a/3d/7bb5ddf04a031a4cf0272c73b24f5e9236003e4ccdbfd0171c\n",
            "Successfully built ibm-cos-sdk ibm-cos-sdk-core ibm-cos-sdk-s3transfer\n",
            "Installing collected packages: requests, lomond, jmespath, pandas, ibm-cos-sdk-core, ibm-cos-sdk-s3transfer, ibm-cos-sdk, ibm-watsonx-ai\n",
            "  Attempting uninstall: requests\n",
            "    Found existing installation: requests 2.32.3\n",
            "    Uninstalling requests-2.32.3:\n",
            "      Successfully uninstalled requests-2.32.3\n",
            "  Attempting uninstall: pandas\n",
            "    Found existing installation: pandas 2.2.2\n",
            "    Uninstalling pandas-2.2.2:\n",
            "      Successfully uninstalled pandas-2.2.2\n",
            "\u001b[31mERROR: pip's dependency resolver does not currently take into account all the packages that are installed. This behaviour is the source of the following dependency conflicts.\n",
            "google-colab 1.0.0 requires pandas==2.2.2, but you have pandas 2.2.3 which is incompatible.\n",
            "google-colab 1.0.0 requires requests==2.32.3, but you have requests 2.32.4 which is incompatible.\u001b[0m\u001b[31m\n",
            "\u001b[0mSuccessfully installed ibm-cos-sdk-2.14.2 ibm-cos-sdk-core-2.14.2 ibm-cos-sdk-s3transfer-2.14.2 ibm-watsonx-ai-1.3.26 jmespath-1.0.1 lomond-0.3.3 pandas-2.2.3 requests-2.32.4\n"
          ]
        }
      ],
      "source": [
        "!pip install ibm-watsonx-ai pandas --upgrade"
      ]
    },
    {
      "cell_type": "markdown",
      "source": [
        "Sentiment Analysis Code"
      ],
      "metadata": {
        "id": "Mr5KOcBNFcPa"
      }
    },
    {
      "cell_type": "code",
      "source": [
        "import pandas as pd\n",
        "import time # for delays\n",
        "from ibm_watsonx_ai.foundation_models import ModelInference\n",
        "from ibm_watsonx_ai.metanames import GenTextParamsMetaNames\n",
        "from google.colab import files # For direct download\n",
        "from google.colab import drive # For Google Drive mounting\n",
        "\n",
        "# Google Drive Mounting\n",
        "output_drive_path = None\n",
        "print(\"Mounting Google Drive (optional)...\")\n",
        "try:\n",
        "    drive.mount('/content/drive')\n",
        "    print(\"Google Drive mounted.\")\n",
        "    output_drive_path = '/content/drive/MyDrive/Colab_Results/legal_docs_with_sentiment.csv'\n",
        "except Exception as e:\n",
        "    print(f\"Error mounting Google Drive: {e}. Skipping Google Drive save.\")\n",
        "\n",
        "\n",
        "# IBM Cloud credentials and project ID\n",
        "api_key = \"nBi9LKRmzW6QpCH_jlPsRE17rouOe_dUlOd-vW0G1an2\"\n",
        "project_id = \"da405b88-a4e7-4fa6-a8eb-636c33559560\"\n",
        "region = \"eu-de\"\n",
        "model_id = \"google/flan-t5-xl\"\n",
        "credentials = {\n",
        "    \"url\": f\"https://{region}.ml.cloud.ibm.com\",\n",
        "    \"apikey\": api_key\n",
        "}\n",
        "\n",
        "# Inference parameters for deterministic output\n",
        "gen_params = {\n",
        "    GenTextParamsMetaNames.DECODING_METHOD: \"greedy\",\n",
        "    GenTextParamsMetaNames.TEMPERATURE: 0\n",
        "}\n",
        "\n",
        "# ModelInference object\n",
        "model = ModelInference(\n",
        "    model_id=model_id,\n",
        "    project_id=project_id,\n",
        "    credentials=credentials,\n",
        "    params=gen_params\n",
        ")\n",
        "\n",
        "def classify_sentiment(text):\n",
        "    # refined few-shot prompt\n",
        "    prompt = f\"\"\"Classify the sentiment of the following legal text as Positive, Negative, or Neutral.\n",
        "\n",
        "    Text: \"The appellate court affirmed the lower court's decision, finding no error in the original judgment.\"\n",
        "    Sentiment: Positive\n",
        "\n",
        "    Text: \"The motion for summary judgment was denied, indicating the need for further litigation.\"\n",
        "    Sentiment: Negative\n",
        "\n",
        "    Text: \"The contract contains standard boilerplate language, typical for such agreements.\"\n",
        "    Sentiment: Neutral\n",
        "\n",
        "    Text: \"{text}\"\n",
        "    Sentiment:\"\"\"\n",
        "    try:\n",
        "        result = model.generate_text(prompt)\n",
        "        time.sleep(0.1) # Small delay for individual API calls\n",
        "        return result.strip()\n",
        "    except Exception as e:\n",
        "        print(f\"Error classifying text: '{text[:100]}...' Error: {e}\")\n",
        "        time.sleep(0.5)\n",
        "        return \"Error\"\n",
        "\n",
        "# Load CSV file from Colab's session storage\n",
        "try:\n",
        "    df = pd.read_csv(\"legal_docs.csv\")\n",
        "    print(\"legal_docs.csv loaded successfully from Colab session storage!\")\n",
        "    print(\"\\nOriginal DataFrame head:\")\n",
        "    print(df.head())\n",
        "except FileNotFoundError:\n",
        "    print(\"Error: legal_docs.csv not found in Colab session storage.\")\n",
        "    print(\"Please ensure you have uploaded 'legal_docs.csv' via the 'Files' tab.\")\n",
        "    exit()\n",
        "\n",
        "# Apply sentiment classification to the 'Phrase' column in chunks\n",
        "print(\"\\nApplying sentiment classification to the 'Phrase' column in chunks...\")\n",
        "sentiment_results = []\n",
        "chunk_size = 50\n",
        "total_rows = len(df)\n",
        "\n",
        "if 'Phrase' in df.columns:\n",
        "    for i in range(0, total_rows, chunk_size):\n",
        "        chunk = df.iloc[i:min(i+chunk_size, total_rows)] # Get the current chunk\n",
        "        print(f\"Processing chunk {i // chunk_size + 1} of {total_rows // chunk_size + (1 if total_rows % chunk_size > 0 else 0)} (rows {i}-{min(i+chunk_size, total_rows) - 1})...\")\n",
        "\n",
        "        # Apply sentiment to the current chunk's 'Phrase' column\n",
        "        chunk_sentiments = chunk['Phrase'].apply(classify_sentiment)\n",
        "        sentiment_results.extend(chunk_sentiments)\n",
        "\n",
        "        # Add a longer pause between chunks to release resources and avoid rate limits\n",
        "        if i + chunk_size < total_rows: # Don't sleep after the last chunk\n",
        "            time.sleep(2) # Pause for 2 seconds between chunks\n",
        "\n",
        "    df['Sentiment'] = sentiment_results # Assign all collected sentiments back to the 'Sentiment' column\n",
        "    print(\"Sentiment classification complete for all data.\")\n",
        "else:\n",
        "    print(\"Error: 'Phrase' column not found in DataFrame. Please check your CSV file's header.\")\n",
        "    exit()\n",
        "\n",
        "output_filename = \"legal_docs_with_sentiment.csv\"\n",
        "\n",
        "# Save results to a new CSV file and to Colab's session storage first\n",
        "df.to_csv(output_filename, index=False)\n",
        "print(f\"\\nResults saved to Colab session storage: {output_filename}\")\n",
        "\n",
        "\n",
        "# Download the file (Direct browser download)\n",
        "try:\n",
        "    files.download(output_filename)\n",
        "    print(f\"Download of {output_filename} initiated. Check your browser's downloads.\")\n",
        "except Exception as e:\n",
        "    print(f\"Error initiating direct download: {e}\")\n",
        "    print(\"You may need to manually download from the 'Files' tab on the left sidebar.\")\n",
        "\n",
        "\n",
        "# Save to Google Drive (If Google Drive mounting was successful)\n",
        "if output_drive_path:\n",
        "    try:\n",
        "        print(f\"Also saving results to Google Drive at: {output_drive_path}\")\n",
        "        df.to_csv(output_drive_path, index=False)\n",
        "        print(\"Results saved to Google Drive.\")\n",
        "    except Exception as e:\n",
        "        print(f\"Error saving to Google Drive: {e}\")\n",
        "        print(\"Ensure Google Drive is mounted correctly and you have write permissions.\")\n",
        "\n",
        "\n",
        "# Sample to verify\n",
        "print(\"\\nFinal DataFrame head (with Sentiment):\")\n",
        "print(df.head())"
      ],
      "metadata": {
        "colab": {
          "base_uri": "https://localhost:8080/",
          "height": 769
        },
        "id": "yazTOegK-49O",
        "outputId": "f72402a1-be4a-4038-d6c3-e06c0005e67e"
      },
      "execution_count": 2,
      "outputs": [
        {
          "output_type": "stream",
          "name": "stdout",
          "text": [
            "Mounting Google Drive (optional)...\n",
            "Mounted at /content/drive\n",
            "Google Drive mounted.\n"
          ]
        },
        {
          "output_type": "stream",
          "name": "stderr",
          "text": [
            "/usr/local/lib/python3.11/dist-packages/ibm_watsonx_ai/foundation_models/utils/utils.py:436: LifecycleWarning: Model 'google/flan-t5-xl' is in deprecated state from 2025-06-18 until 2025-10-15. IDs of alternative models: None. Further details: https://dataplatform.cloud.ibm.com/docs/content/wsj/analyze-data/fm-model-lifecycle.html?context=wx&audience=wdp\n",
            "  warn(model_state_warning, category=LifecycleWarning)\n"
          ]
        },
        {
          "output_type": "stream",
          "name": "stdout",
          "text": [
            "legal_docs.csv loaded successfully from Colab session storage!\n",
            "\n",
            "Original DataFrame head:\n",
            "   ID                                         Phrase  Sentiment\n",
            "0   1          The plaintiff's claims are dismissed.         -1\n",
            "1   2  The contract is deemed valid and enforceable.          1\n",
            "2   3     The appeal is denied due to lack of merit.         -1\n",
            "3   4  The legal team submitted additional evidence.          0\n",
            "4   5             The appeal is under consideration.          0\n",
            "\n",
            "Applying sentiment classification to the 'Phrase' column in chunks...\n",
            "Processing chunk 1 of 10 (rows 0-49)...\n",
            "Processing chunk 2 of 10 (rows 50-99)...\n",
            "Processing chunk 3 of 10 (rows 100-149)...\n",
            "Processing chunk 4 of 10 (rows 150-199)...\n",
            "Processing chunk 5 of 10 (rows 200-249)...\n",
            "Processing chunk 6 of 10 (rows 250-299)...\n",
            "Processing chunk 7 of 10 (rows 300-349)...\n",
            "Processing chunk 8 of 10 (rows 350-399)...\n",
            "Processing chunk 9 of 10 (rows 400-449)...\n",
            "Processing chunk 10 of 10 (rows 450-499)...\n",
            "Sentiment classification complete for all data.\n",
            "\n",
            "Results saved to Colab session storage: legal_docs_with_sentiment.csv\n"
          ]
        },
        {
          "output_type": "display_data",
          "data": {
            "text/plain": [
              "<IPython.core.display.Javascript object>"
            ],
            "application/javascript": [
              "\n",
              "    async function download(id, filename, size) {\n",
              "      if (!google.colab.kernel.accessAllowed) {\n",
              "        return;\n",
              "      }\n",
              "      const div = document.createElement('div');\n",
              "      const label = document.createElement('label');\n",
              "      label.textContent = `Downloading \"${filename}\": `;\n",
              "      div.appendChild(label);\n",
              "      const progress = document.createElement('progress');\n",
              "      progress.max = size;\n",
              "      div.appendChild(progress);\n",
              "      document.body.appendChild(div);\n",
              "\n",
              "      const buffers = [];\n",
              "      let downloaded = 0;\n",
              "\n",
              "      const channel = await google.colab.kernel.comms.open(id);\n",
              "      // Send a message to notify the kernel that we're ready.\n",
              "      channel.send({})\n",
              "\n",
              "      for await (const message of channel.messages) {\n",
              "        // Send a message to notify the kernel that we're ready.\n",
              "        channel.send({})\n",
              "        if (message.buffers) {\n",
              "          for (const buffer of message.buffers) {\n",
              "            buffers.push(buffer);\n",
              "            downloaded += buffer.byteLength;\n",
              "            progress.value = downloaded;\n",
              "          }\n",
              "        }\n",
              "      }\n",
              "      const blob = new Blob(buffers, {type: 'application/binary'});\n",
              "      const a = document.createElement('a');\n",
              "      a.href = window.URL.createObjectURL(blob);\n",
              "      a.download = filename;\n",
              "      div.appendChild(a);\n",
              "      a.click();\n",
              "      div.remove();\n",
              "    }\n",
              "  "
            ]
          },
          "metadata": {}
        },
        {
          "output_type": "display_data",
          "data": {
            "text/plain": [
              "<IPython.core.display.Javascript object>"
            ],
            "application/javascript": [
              "download(\"download_34d07826-9c9e-42cf-956c-48549da3fe1e\", \"legal_docs_with_sentiment.csv\", 26514)"
            ]
          },
          "metadata": {}
        },
        {
          "output_type": "stream",
          "name": "stdout",
          "text": [
            "Download of legal_docs_with_sentiment.csv initiated. Check your browser's downloads.\n",
            "Also saving results to Google Drive at: /content/drive/MyDrive/Colab_Results/legal_docs_with_sentiment.csv\n",
            "Error saving to Google Drive: Cannot save file into a non-existent directory: '/content/drive/MyDrive/Colab_Results'\n",
            "Ensure Google Drive is mounted correctly and you have write permissions.\n",
            "\n",
            "Final DataFrame head (with Sentiment):\n",
            "   ID                                         Phrase Sentiment\n",
            "0   1          The plaintiff's claims are dismissed.  Negative\n",
            "1   2  The contract is deemed valid and enforceable.  Positive\n",
            "2   3     The appeal is denied due to lack of merit.  Negative\n",
            "3   4  The legal team submitted additional evidence.  Positive\n",
            "4   5             The appeal is under consideration.   Neutral\n"
          ]
        }
      ]
    },
    {
      "cell_type": "markdown",
      "source": [
        "Generate Summarized Insights and Visualization"
      ],
      "metadata": {
        "id": "bRJxJHHNFgpy"
      }
    },
    {
      "cell_type": "code",
      "source": [
        "import matplotlib.pyplot as plt\n",
        "import seaborn as sns\n",
        "\n",
        "# Generate Summarized Insights (Sentiment Counts)\n",
        "print(\"\\n--- Summarized Sentiment Insights ---\")\n",
        "sentiment_counts = df['Sentiment'].value_counts()\n",
        "print(\"Sentiment Distribution:\")\n",
        "print(sentiment_counts)\n",
        "print(f\"\\nTotal documents analyzed: {len(df)}\")\n",
        "\n",
        "# Calculate percentages\n",
        "sentiment_percentages = df['Sentiment'].value_counts(normalize=True) * 100\n",
        "print(\"\\nSentiment Percentage Distribution:\")\n",
        "print(sentiment_percentages.round(2)) # Round to 2 decimal places\n",
        "\n",
        "# Visualize the Sentiment Distribution\n",
        "print(\"\\n--- Visualizing Sentiment Distribution ---\")\n",
        "\n",
        "plt.figure(figsize=(8, 6))\n",
        "sns.barplot(x=sentiment_counts.index, y=sentiment_counts.values, palette='viridis')\n",
        "plt.title('Distribution of Legal Document Sentiments')\n",
        "plt.xlabel('Sentiment')\n",
        "plt.ylabel('Number of Documents')\n",
        "plt.grid(axis='y', linestyle='--', alpha=0.7)\n",
        "plt.show()\n",
        "\n",
        "# Pie chart for percentages\n",
        "plt.figure(figsize=(8, 8))\n",
        "plt.pie(sentiment_percentages, labels=sentiment_percentages.index, autopct='%1.1f%%', startangle=90, colors=sns.color_palette('pastel'))\n",
        "plt.title('Percentage Distribution of Legal Document Sentiments')\n",
        "plt.axis('equal')\n",
        "plt.show()\n",
        "\n",
        "# Distribution Report\n",
        "print(\"\\n--- Sentiment Distribution Report ---\")\n",
        "print(f\"{'Sentiment':<10} | {'Count':<8} | {'Percentage':<10}\")\n",
        "print(\"-\" * 35)\n",
        "for sentiment, count in sentiment_counts.items():\n",
        "    percentage = sentiment_percentages[sentiment]\n",
        "    print(f\"{sentiment:<10} | {count:<8} | {percentage:<9.2f}%\")\n",
        "print(\"-\" * 35)\n",
        "print(f\"{'Total':<10} | {len(df):<8} | {100.00:<9.2f}%\")\n",
        "\n",
        "\n",
        "print(\"\\nSummarized insights and visualizations generated.\")"
      ],
      "metadata": {
        "colab": {
          "base_uri": "https://localhost:8080/",
          "height": 1000
        },
        "id": "NDGYGRkzFGkG",
        "outputId": "edf6b4e9-e3fd-4b9c-8485-a525c89d2648"
      },
      "execution_count": 2,
      "outputs": [
        {
          "output_type": "stream",
          "name": "stdout",
          "text": [
            "\n",
            "--- Summarized Sentiment Insights ---\n",
            "Sentiment Distribution:\n",
            "Sentiment\n",
            "Positive    211\n",
            "Negative    167\n",
            "Neutral     122\n",
            "Name: count, dtype: int64\n",
            "\n",
            "Total documents analyzed: 500\n",
            "\n",
            "Sentiment Percentage Distribution:\n",
            "Sentiment\n",
            "Positive    42.2\n",
            "Negative    33.4\n",
            "Neutral     24.4\n",
            "Name: proportion, dtype: float64\n",
            "\n",
            "--- Visualizing Sentiment Distribution ---\n"
          ]
        },
        {
          "output_type": "display_data",
          "data": {
            "text/plain": [
              "<Figure size 800x600 with 1 Axes>"
            ],
            "image/png": "[encoded data removed]"
          },
          "metadata": {}
        },
        {
          "output_type": "display_data",
          "data": {
            "text/plain": [
              "<Figure size 800x800 with 1 Axes>"
            ],
            "image/png": "[encoded data removed]"
          },
          "metadata": {}
        },
        {
          "output_type": "stream",
          "name": "stdout",
          "text": [
            "\n",
            "--- Sentiment Distribution Report ---\n",
            "Sentiment  | Count    | Percentage\n",
            "-----------------------------------\n",
            "Positive   | 211      | 42.20    %\n",
            "Negative   | 167      | 33.40    %\n",
            "Neutral    | 122      | 24.40    %\n",
            "-----------------------------------\n",
            "Total      | 500      | 100.00   %\n",
            "\n",
            "Summarized insights and visualizations generated.\n"
          ]
        }
      ]
    }
  ]
}